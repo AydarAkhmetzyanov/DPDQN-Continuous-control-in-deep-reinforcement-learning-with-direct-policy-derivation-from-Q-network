{
 "cells": [
  {
   "cell_type": "code",
   "execution_count": 1,
   "metadata": {},
   "outputs": [],
   "source": [
    "import gym\n",
    "import sys\n",
    "\n",
    "sys.setrecursionlimit(10000)\n",
    "\n",
    "from stable_baselines.common.policies import MlpPolicy\n",
    "from stable_baselines.common.vec_env import DummyVecEnv\n",
    "from stable_baselines import PPO2\n",
    "import os\n",
    "os.environ['TF_CPP_MIN_LOG_LEVEL'] = '3'  # or any {'0', '1', '2'}\n",
    "import tensorflow as tf\n",
    "tf.logging.set_verbosity(tf.logging.ERROR)\n",
    "import numpy as np\n",
    "\n",
    "import matplotlib.pyplot as plt\n",
    "%matplotlib inline\n",
    "%load_ext autoreload\n",
    "%autoreload 2\n"
   ]
  },
  {
   "cell_type": "markdown",
   "metadata": {},
   "source": [
    "LunarLanderContinuous-v2\n",
    "Landing pad is always at coordinates (0,0). Coordinates are the first two numbers in state vector. Reward for moving from the top of the screen to landing pad and zero speed is about 100..140 points. If lander moves away from landing pad it loses reward back. Episode finishes if the lander crashes or comes to rest, receiving additional -100 or +100 points. Each leg ground contact is +10. Firing main engine is -0.3 points each frame. Solved is 200 points. Landing outside landing pad is possible. Fuel is infinite, so an agent can learn to fly and then land on its first attempt. Action is two real values vector from -1 to +1. First controls main engine, -1..0 off, 0..+1 throttle from 50% to 100% power. Engine can't work with less than 50% power. Second value -1.0..-0.5 fire left engine, +0.5..+1.0 fire right engine, -0.5..0.5 off."
   ]
  },
  {
   "cell_type": "code",
   "execution_count": 2,
   "metadata": {},
   "outputs": [],
   "source": [
    "env = gym.make('LunarLanderContinuous-v2')\n",
    "env = DummyVecEnv([lambda: env])  # The algorithms require a vectorized environment to run\n",
    "\n",
    "model = PPO2(MlpPolicy, env, verbose=0)\n",
    "model.learn(total_timesteps=5000)\n",
    "\n",
    "obs = env.reset()\n",
    "for i in range(500):\n",
    "    action, _states = model.predict(obs)\n",
    "    obs, rewards, dones, info = env.step(action)\n",
    "    env.render()\n",
    "\n",
    "#env.close()\n"
   ]
  },
  {
   "cell_type": "code",
   "execution_count": null,
   "metadata": {},
   "outputs": [],
   "source": []
  },
  {
   "cell_type": "code",
   "execution_count": 3,
   "metadata": {},
   "outputs": [
    {
     "data": {
      "text/plain": [
       "device(type='cpu')"
      ]
     },
     "execution_count": 3,
     "metadata": {},
     "output_type": "execute_result"
    }
   ],
   "source": [
    "import torch\n",
    "import torch.nn as nn\n",
    "import torch.nn.functional as F\n",
    "device = torch.device('cuda' if torch.cuda.is_available() else 'cpu')\n",
    "# those who have a GPU but feel unfair to use it can uncomment:\n",
    "# device = torch.device('cpu')\n",
    "device"
   ]
  },
  {
   "cell_type": "code",
   "execution_count": 4,
   "metadata": {},
   "outputs": [
    {
     "name": "stdout",
     "output_type": "stream",
     "text": [
      "Box(2,)\n",
      "[-1. -1.]\n",
      "[1. 1.]\n",
      "Box(8,)\n",
      "[ 0.00707502  1.3958508   0.35780862 -0.34770757 -0.00810276 -0.08021694\n",
      "  0.          0.        ]\n"
     ]
    }
   ],
   "source": [
    "env = gym.make('LunarLanderContinuous-v2')\n",
    "observation_shape = env.observation_space\n",
    "print(env.action_space)\n",
    "print(env.action_space.low)\n",
    "print(env.action_space.high)\n",
    "print(env.observation_space)\n",
    "env.reset()\n",
    "obs, _, _, _ = env.step([0,0])\n",
    "print(obs)\n",
    "\n"
   ]
  },
  {
   "cell_type": "code",
   "execution_count": 5,
   "metadata": {},
   "outputs": [
    {
     "name": "stdout",
     "output_type": "stream",
     "text": [
      "torch.Size([4, 4])\n",
      "torch.Size([4, 10])\n",
      "tensor([[0.9405, 0.1585, 0.7190, 0.6588],\n",
      "        [0.6819, 0.9277, 0.4113, 0.0083],\n",
      "        [0.6001, 0.7647, 0.0737, 0.7170],\n",
      "        [0.8492, 0.3752, 0.7723, 0.4251]])\n",
      "tensor([[0.4766, 0.9963, 0.0482, 0.1754, 0.4846, 0.0971],\n",
      "        [0.3601, 0.1083, 0.3986, 0.1311, 0.9224, 0.3248],\n",
      "        [0.4525, 0.2525, 0.9317, 0.1732, 0.7595, 0.6437],\n",
      "        [0.1398, 0.2527, 0.8302, 0.9014, 0.3099, 0.9661]])\n",
      "tensor([[0.9405, 0.1585, 0.7190, 0.6588, 0.4766, 0.9963, 0.0482, 0.1754, 0.4846,\n",
      "         0.0971],\n",
      "        [0.6819, 0.9277, 0.4113, 0.0083, 0.3601, 0.1083, 0.3986, 0.1311, 0.9224,\n",
      "         0.3248],\n",
      "        [0.6001, 0.7647, 0.0737, 0.7170, 0.4525, 0.2525, 0.9317, 0.1732, 0.7595,\n",
      "         0.6437],\n",
      "        [0.8492, 0.3752, 0.7723, 0.4251, 0.1398, 0.2527, 0.8302, 0.9014, 0.3099,\n",
      "         0.9661]])\n"
     ]
    }
   ],
   "source": [
    "x1 = torch.rand((4, 4))\n",
    "x2 = torch.rand(4, 6)\n",
    "print(x1.size())\n",
    "px = torch.cat((x1, x2), dim=1)\n",
    "print(px.size())\n",
    "print(x1)\n",
    "print(x2)\n",
    "print(px)"
   ]
  },
  {
   "cell_type": "code",
   "execution_count": null,
   "metadata": {},
   "outputs": [],
   "source": []
  },
  {
   "cell_type": "code",
   "execution_count": 6,
   "metadata": {},
   "outputs": [
    {
     "name": "stdout",
     "output_type": "stream",
     "text": [
      "[-0.80469537 -0.7726215 ]\n"
     ]
    },
    {
     "name": "stderr",
     "output_type": "stream",
     "text": [
      "//anaconda3/envs/p35/lib/python3.5/site-packages/torch/nn/functional.py:1350: UserWarning: nn.functional.sigmoid is deprecated. Use torch.sigmoid instead.\n",
      "  warnings.warn(\"nn.functional.sigmoid is deprecated. Use torch.sigmoid instead.\")\n"
     ]
    }
   ],
   "source": [
    "class Flatten(nn.Module):\n",
    "    def __init__(self):\n",
    "        super().__init__()\n",
    "        \n",
    "    def forward(self, x):\n",
    "        return x.view(x.size(0), -1)\n",
    "    \n",
    "\n",
    "class BQNAgent(nn.Module):\n",
    "    def __init__(self, observation_space, action_space):\n",
    "\n",
    "        super().__init__()\n",
    "        self.action_space = action_space\n",
    "        self.observation_space = observation_space\n",
    "        \n",
    "        self.flatten = Flatten()\n",
    "\n",
    "        self.hid = nn.Linear(len(self.action_space.low) + len(self.observation_space.low), 64)\n",
    "        self.hid2 = nn.Linear(64, 32)\n",
    "        self.hid3 = nn.Linear(32, 16)\n",
    "        self.hid4 = nn.Linear(16, 1)\n",
    "\n",
    "    def forward(self, states_t, actions_t):\n",
    "        \"\"\"\n",
    "        TODO update\n",
    "        takes agent's observation (tensor) and actions (tensor), returns qvalues (tensor)\n",
    "        :param state_t: shape = [batch_size, 8]\n",
    "        :param actions_t: shape = [batch_size, 2]\n",
    "        \"\"\"\n",
    "        # Use your network to compute qvalues for given state\n",
    "        \n",
    "        #state_t = self.flatten(state_t) # if we have more complex state (image for example)\n",
    "        x = torch.cat((states_t, actions_t), dim=1)\n",
    "        \n",
    "        x = self.hid(x)\n",
    "        x = F.sigmoid(self.hid2(x))\n",
    "        x = F.relu(self.hid3(x))\n",
    "        x = self.hid4(x)\n",
    "        qvalue = x\n",
    "\n",
    "        assert qvalue.requires_grad, \"qvalue must be a torch tensor with grad\"\n",
    "\n",
    "        return qvalue\n",
    "    \n",
    "    def get_action(self, state, greedy=False):\n",
    "        # stochastic exploration with randomly generated actions, more samples->more determenistic prediction\n",
    "        # todo: for greedy use backprop to optimize input for the best sample\n",
    "        RAND_SAMPLES = 20\n",
    "        actions = torch.rand((RAND_SAMPLES, len(self.action_space.low)))\n",
    "        \n",
    "        # todo: normal fit to environment constraints for action space\n",
    "        actions = (actions-0.5)*2 #shitty code\n",
    "        \n",
    "        model_device = next(self.parameters()).device\n",
    "        \n",
    "        #todo shitty code RAND_SAMPLES\n",
    "        states=[state,state,state,state,state,state,state,state,state,state,state,state,state,state,state,state,state,state,state,state]\n",
    "        states=torch.tensor(states, device=model_device, dtype=torch.float)\n",
    "        \n",
    "        qvalues = self.forward(states, actions)\n",
    "        \n",
    "        action = actions[qvalues.argmax()].data.cpu().numpy()\n",
    "        \n",
    "        return action\n",
    "    \n",
    "agent = BQNAgent(env.observation_space, env.action_space).to(device)\n",
    "obs, _, _, _ = env.step([0,0])\n",
    "print(agent.get_action(obs))"
   ]
  },
  {
   "cell_type": "code",
   "execution_count": 7,
   "metadata": {},
   "outputs": [
    {
     "name": "stdout",
     "output_type": "stream",
     "text": [
      "[array([ 0.01415062,  1.3784043 ,  0.3578332 , -0.40107107, -0.01611824,\n",
      "       -0.08015684,  0.        ,  0.        ], dtype=float32)]\n",
      "tensor([[0.0655, 0.8145],\n",
      "        [0.6629, 0.2254],\n",
      "        [0.2183, 0.7354],\n",
      "        [0.6230, 0.0998],\n",
      "        [0.7820, 0.1703]])\n",
      "tensor([[-0.8690,  0.6291],\n",
      "        [ 0.3258, -0.5491],\n",
      "        [-0.5635,  0.4707],\n",
      "        [ 0.2461, -0.8004],\n",
      "        [ 0.5639, -0.6593]])\n",
      "tensor([[-0.2311],\n",
      "        [-0.2318],\n",
      "        [-0.2320],\n",
      "        [-0.2308],\n",
      "        [-0.2322]], grad_fn=<AddmmBackward>)\n",
      "tensor(3)\n",
      "[ 0.2460823 -0.8004179]\n"
     ]
    }
   ],
   "source": [
    "#tests\n",
    "obs, _, _, _ = env.step([0,0])\n",
    "obss=[obs,obs,obs,obs,obs]\n",
    "print(obss[0:1])\n",
    "\n",
    "model_device = next(agent.parameters()).device\n",
    "states=torch.tensor(obss, device=model_device, dtype=torch.float)\n",
    "\n",
    "RAND_SAMPLES = 5\n",
    "actions = torch.rand((RAND_SAMPLES, len(agent.action_space.low)))\n",
    "print(actions)\n",
    "# todo: normal fit to environment constraints for action space\n",
    "actions = (actions-0.5)*2 #shitty code\n",
    "print(actions)\n",
    "qvalues = agent(states,actions)\n",
    "print(qvalues)\n",
    "print(qvalues.argmax())\n",
    "print(actions[qvalues.argmax()].data.cpu().numpy())"
   ]
  },
  {
   "cell_type": "code",
   "execution_count": 8,
   "metadata": {},
   "outputs": [
    {
     "data": {
      "text/plain": [
       "-338.62759270838626"
      ]
     },
     "execution_count": 8,
     "metadata": {},
     "output_type": "execute_result"
    }
   ],
   "source": [
    "#test backprop action sampling\n",
    "\n",
    "def evaluate(env, agent, n_games=1, greedy=False, t_max=10000):\n",
    "    \"\"\" Plays n_games full games. If greedy, picks actions as argmax(qvalues). Returns mean reward. \"\"\"\n",
    "    rewards = []\n",
    "    for _ in range(n_games):\n",
    "        s = env.reset()\n",
    "        reward = 0\n",
    "        for _ in range(t_max):\n",
    "            action = agent.get_action(s)\n",
    "            s, r, done, _ = env.step(action)\n",
    "            reward += r\n",
    "            if done:\n",
    "                break\n",
    "\n",
    "        rewards.append(reward)\n",
    "    return np.mean(rewards)\n",
    "\n",
    "evaluate(env, agent, n_games=1)"
   ]
  },
  {
   "cell_type": "code",
   "execution_count": 9,
   "metadata": {},
   "outputs": [],
   "source": [
    "from replay_buffer import ReplayBuffer\n",
    "exp_replay = ReplayBuffer(100)\n",
    "\n",
    "for _ in range(30):\n",
    "    exp_replay.add(env.reset(), env.action_space.sample(),\n",
    "                   1.0, env.reset(), done=False)\n",
    "\n",
    "obs_batch, act_batch, reward_batch, next_obs_batch, is_done_batch = exp_replay.sample(\n",
    "    5)"
   ]
  },
  {
   "cell_type": "code",
   "execution_count": 10,
   "metadata": {},
   "outputs": [],
   "source": [
    "def play_and_record(initial_state, agent, env, exp_replay, n_steps=1):\n",
    "    s = initial_state\n",
    "    sum_rewards = 0\n",
    "    \n",
    "    \n",
    "    for t in range(n_steps):\n",
    "        a = agent.get_action(s)\n",
    "        next_s, r, done, _ = env.step(a)\n",
    "        \n",
    "        exp_replay.add(s, a, r,next_s,done)\n",
    "        \n",
    "        sum_rewards+=r\n",
    "        s = next_s\n",
    "        \n",
    "        if done:\n",
    "            s = env.reset()\n",
    "        \n",
    "        \n",
    "    return sum_rewards, s"
   ]
  },
  {
   "cell_type": "code",
   "execution_count": 11,
   "metadata": {},
   "outputs": [
    {
     "name": "stdout",
     "output_type": "stream",
     "text": [
      "Well done!\n"
     ]
    }
   ],
   "source": [
    "# testing your code.\n",
    "exp_replay = ReplayBuffer(5000)\n",
    "\n",
    "state = env.reset()\n",
    "play_and_record(state, agent, env, exp_replay, n_steps=1000)\n",
    "\n",
    "# if you're using your own experience replay buffer, some of those tests may need correction.\n",
    "# just make sure you know what your code does\n",
    "assert len(exp_replay) == 1000, \"play_and_record should have added exactly 1000 steps, \"\\\n",
    "                                 \"but instead added %i\" % len(exp_replay)\n",
    "is_dones = list(zip(*exp_replay._storage))[-1]\n",
    "\n",
    "assert 0 < np.mean(is_dones) < 0.1, \"Please make sure you restart the game whenever it is 'done' and record the is_done correctly into the buffer.\"\\\n",
    "                                    \"Got %f is_done rate over %i steps. [If you think it's your tough luck, just re-run the test]\" % (\n",
    "                                        np.mean(is_dones), len(exp_replay))\n",
    "\n",
    "for _ in range(100):\n",
    "    obs_batch, act_batch, reward_batch, next_obs_batch, is_done_batch = exp_replay.sample(\n",
    "        10)\n",
    "    assert act_batch.shape == (\n",
    "        10,2), \"actions batch should have shape (10,) but is instead %s\" % str(act_batch.shape)\n",
    "    assert reward_batch.shape == (\n",
    "        10,), \"rewards batch should have shape (10,) but is instead %s\" % str(reward_batch.shape)\n",
    "    assert is_done_batch.shape == (\n",
    "        10,), \"is_done batch should have shape (10,) but is instead %s\" % str(is_done_batch.shape)\n",
    "    assert [int(i) in (0, 1)\n",
    "            for i in is_dones], \"is_done should be strictly True or False\"\n",
    "\n",
    "print(\"Well done!\")"
   ]
  },
  {
   "cell_type": "code",
   "execution_count": 12,
   "metadata": {},
   "outputs": [
    {
     "data": {
      "text/plain": [
       "<All keys matched successfully>"
      ]
     },
     "execution_count": 12,
     "metadata": {},
     "output_type": "execute_result"
    }
   ],
   "source": [
    "target_network = BQNAgent(env.observation_space, env.action_space).to(device)\n",
    "# This is how you can load weights from agent into target network\n",
    "target_network.load_state_dict(agent.state_dict())"
   ]
  },
  {
   "cell_type": "markdown",
   "metadata": {},
   "source": [
    "### Learning with... Q-learning\n",
    "Here we write a function similar to `agent.update` from tabular q-learning.\n",
    "\n",
    "Compute Q-learning TD error:\n",
    "\n",
    "$$ L = { 1 \\over N} \\sum_i [ Q_{\\theta}(s,a) - Q_{reference}(s,a) ] ^2 $$\n",
    "\n",
    "With Q-reference defined as\n",
    "\n",
    "$$ Q_{reference}(s,a) = r(s,a) + \\gamma \\cdot max_{a'} Q_{target}(s', a') $$\n",
    "\n",
    "Where\n",
    "* $Q_{target}(s',a')$ denotes q-value of next state and next action predicted by __target_network__\n",
    "* $s, a, r, s'$ are current state, action, reward and next state respectively\n",
    "* $\\gamma$ is a discount factor defined two cells above.\n"
   ]
  },
  {
   "cell_type": "code",
   "execution_count": 13,
   "metadata": {},
   "outputs": [],
   "source": [
    "# comments\n",
    "# We have to replace max q target with action sampling from this network, \n",
    "# this doest not make loss non-differentiable because target network is fixed\n",
    "\n",
    "# Action value Q(s,a) is the expected total reward G agent gets from\n",
    "# state s by taking action a and following policy π from next state.\n"
   ]
  },
  {
   "cell_type": "code",
   "execution_count": null,
   "metadata": {},
   "outputs": [],
   "source": []
  },
  {
   "cell_type": "code",
   "execution_count": 14,
   "metadata": {},
   "outputs": [],
   "source": [
    "def compute_td_loss(states, actions, rewards, next_states_np, is_done,\n",
    "                    agent, target_network,\n",
    "                    gamma=0.99,\n",
    "                    check_shapes=False,\n",
    "                    device=device):\n",
    "    \"\"\" Compute td loss using torch operations only. Use the formulae above. \"\"\"\n",
    "    states = torch.tensor(states, device=device, dtype=torch.float)    # shape: [batch_size, 8]\n",
    "    \n",
    "    # for some torch reason should not make actions a tensor\n",
    "    actions = torch.tensor(actions, device=device, dtype=torch.float)    # shape: [batch_size, 2]\n",
    "    \n",
    "    rewards = torch.tensor(rewards, device=device, dtype=torch.float)  # shape: [batch_size]\n",
    "    \n",
    "    next_states = torch.tensor(next_states_np, device=device, dtype=torch.float) # shape: [batch_size, 8]\n",
    "    \n",
    "    is_done = torch.tensor(\n",
    "        is_done.astype('float32'),\n",
    "        device=device,\n",
    "        dtype=torch.float\n",
    "    )  # shape: [batch_size]\n",
    "    is_not_done = 1 - is_done\n",
    "    \n",
    "\n",
    "    # get q-values for all actions in current states\n",
    "    predicted_qvalues = agent(states, actions).squeeze() #torch.Size([10, 1]) -> 10\n",
    "\n",
    "    # compute q-values for all actions in next states\n",
    "    #best action from target network sampling\n",
    "    next_actions = [target_network.get_action(next_state) for next_state in next_states_np] #batch size\n",
    "    next_actions = torch.tensor(next_actions, device=device, dtype=torch.float) # shape: [batch_size, 2]\n",
    "    predicted_next_qvalues = target_network(next_states, next_actions).squeeze() #torch.Size([10, 1]) -> 10\n",
    "    \n",
    "    # compute \"target q-values\" for loss - it's what's inside square parentheses in the above formula.\n",
    "    # at the last state use the simplified formula: Q(s,a) = r(s,a) since s' doesn't exist\n",
    "    # you can multiply next state values by is_not_done to achieve this.\n",
    "    target_qvalues_for_actions = rewards+is_not_done*gamma*predicted_next_qvalues # torch.Size([10, 10])\n",
    "    \n",
    "    # mean squared error loss to minimize\n",
    "    loss = torch.mean((predicted_qvalues -\n",
    "                       target_qvalues_for_actions.detach()) ** 2)\n",
    "    \n",
    "    \n",
    "    return loss\n",
    "\n",
    "#tests\n",
    "obs_batch, act_batch, reward_batch, next_obs_batch, is_done_batch = exp_replay.sample(\n",
    "    10)\n",
    "\n",
    "loss = compute_td_loss(obs_batch, act_batch, reward_batch, next_obs_batch, is_done_batch,\n",
    "                       agent, target_network,\n",
    "                       gamma=0.99, check_shapes=True)\n",
    "loss.backward()\n",
    "\n",
    "assert loss.requires_grad and tuple(loss.data.size()) == (\n",
    "    ), \"you must return scalar loss - mean over batch\"\n",
    "assert np.any(next(agent.parameters()).grad.data.cpu().numpy() !=\n",
    "              0), \"loss must be differentiable w.r.t. network weights\"\n",
    "assert np.all(next(target_network.parameters()).grad is None), \"target network should not have grads\""
   ]
  },
  {
   "cell_type": "code",
   "execution_count": 15,
   "metadata": {},
   "outputs": [
    {
     "data": {
      "text/plain": [
       "<All keys matched successfully>"
      ]
     },
     "execution_count": 15,
     "metadata": {},
     "output_type": "execute_result"
    }
   ],
   "source": [
    "from tqdm import trange\n",
    "from IPython.display import clear_output\n",
    "import matplotlib.pyplot as plt\n",
    "import random\n",
    "seed = 42\n",
    "random.seed(seed)\n",
    "np.random.seed(seed)\n",
    "torch.manual_seed(seed)\n",
    "\n",
    "state = env.reset()\n",
    "agent = BQNAgent(env.observation_space, env.action_space).to(device)\n",
    "target_network = BQNAgent(env.observation_space, env.action_space).to(device)\n",
    "target_network.load_state_dict(agent.state_dict())\n",
    "\n"
   ]
  },
  {
   "cell_type": "code",
   "execution_count": 16,
   "metadata": {},
   "outputs": [
    {
     "name": "stdout",
     "output_type": "stream",
     "text": [
      "10000\n"
     ]
    }
   ],
   "source": [
    "exp_replay = ReplayBuffer(10000) # try bigger size\n",
    "for i in range(100):\n",
    "    play_and_record(state, agent, env, exp_replay, n_steps=10**2)\n",
    "    if len(exp_replay) == 10**4:\n",
    "        break\n",
    "print(len(exp_replay))"
   ]
  },
  {
   "cell_type": "code",
   "execution_count": 17,
   "metadata": {},
   "outputs": [],
   "source": [
    "timesteps_per_epoch = 1\n",
    "batch_size = 128\n",
    "total_steps = 3 * 10**6\n",
    "decay_steps = 10**6\n",
    "\n",
    "opt = torch.optim.Adam(agent.parameters(), lr=1e-4)\n",
    "\n",
    "\n",
    "loss_freq = 50\n",
    "refresh_target_network_freq = 1000 # reduce it\n",
    "eval_freq = 5000\n",
    "\n",
    "max_grad_norm = 50\n",
    "\n"
   ]
  },
  {
   "cell_type": "code",
   "execution_count": 18,
   "metadata": {},
   "outputs": [],
   "source": [
    "mean_rw_history = []\n",
    "td_loss_history = []\n",
    "grad_norm_history = []\n",
    "initial_state_v_history = []"
   ]
  },
  {
   "cell_type": "code",
   "execution_count": null,
   "metadata": {},
   "outputs": [
    {
     "data": {
      "image/png": "[encoded data removed]",
      "text/plain": [
       "<Figure size 1152x648 with 4 Axes>"
      ]
     },
     "metadata": {
      "needs_background": "light"
     },
     "output_type": "display_data"
    },
    {
     "name": "stderr",
     "output_type": "stream",
     "text": [
      "  1%|          | 15482/3000001 [14:22<47:22:05, 17.50it/s] "
     ]
    }
   ],
   "source": [
    "import utils\n",
    "\n",
    "state = env.reset()\n",
    "for step in trange(total_steps + 1):\n",
    "\n",
    "    # play\n",
    "    _, state = play_and_record(state, agent, env, exp_replay, timesteps_per_epoch)\n",
    "\n",
    "    # train\n",
    "    s_, a_, r_, next_s_, done_ = exp_replay.sample(batch_size)\n",
    "        \n",
    "    loss = compute_td_loss(s_,a_,r_,next_s_,done_,agent,target_network)\n",
    "\n",
    "    opt.zero_grad()\n",
    "    loss.backward()\n",
    "    grad_norm = nn.utils.clip_grad_norm_(agent.parameters(), max_grad_norm)\n",
    "    opt.step()\n",
    "    \n",
    "\n",
    "    if step % loss_freq == 0:\n",
    "        td_loss_history.append(loss.data.cpu().item())\n",
    "        grad_norm_history.append(grad_norm)\n",
    "\n",
    "        \n",
    "    \n",
    "    if step % refresh_target_network_freq == 0:\n",
    "        target_network.load_state_dict(agent.state_dict())\n",
    "\n",
    "    if step % eval_freq == 0:\n",
    "        # eval the agent\n",
    "        mean_rw_history.append(evaluate(\n",
    "            env, agent, n_games=3, greedy=True, t_max=1000)\n",
    "        )\n",
    "\n",
    "        clear_output(True)\n",
    "\n",
    "        plt.figure(figsize=[16, 9])\n",
    "        plt.subplot(2, 2, 1)\n",
    "        plt.title(\"Mean reward per episode\")\n",
    "        plt.plot(mean_rw_history)\n",
    "        plt.grid()\n",
    "\n",
    "        assert not np.isnan(td_loss_history[-1])\n",
    "        plt.subplot(2, 2, 2)\n",
    "        plt.title(\"TD loss history (smoothened)\")\n",
    "        plt.plot(utils.smoothen(td_loss_history))\n",
    "        plt.grid()\n",
    "\n",
    "        plt.subplot(2, 2, 3)\n",
    "        plt.title(\"Initial state V\")\n",
    "        plt.plot(initial_state_v_history)\n",
    "        plt.grid()\n",
    "\n",
    "        plt.subplot(2, 2, 4)\n",
    "        plt.title(\"Grad norm history (smoothened)\")\n",
    "        plt.plot(utils.smoothen(grad_norm_history))\n",
    "        plt.grid()\n",
    "\n",
    "        plt.show()"
   ]
  },
  {
   "cell_type": "code",
   "execution_count": null,
   "metadata": {},
   "outputs": [],
   "source": [
    "final_score = evaluate(\n",
    "  env,\n",
    "    agent, n_games=30, greedy=True, t_max=10 * 1000\n",
    ") * n_lives\n",
    "print('final score:', final_score)\n",
    "assert final_score > 10, 'not as cool as DQN can'\n",
    "print('Cool!')"
   ]
  },
  {
   "cell_type": "code",
   "execution_count": null,
   "metadata": {},
   "outputs": [],
   "source": [
    "#env.close()\n",
    "#env = gym.make('LunarLanderContinuous-v2')\n",
    "obs = env.reset()\n",
    "for i in range(500):\n",
    "    a = agent.get_action(obs)\n",
    "    obs, rewards, dones, info = env.step(a)\n",
    "    env.render()\n",
    "env.close()"
   ]
  },
  {
   "cell_type": "code",
   "execution_count": null,
   "metadata": {},
   "outputs": [],
   "source": []
  },
  {
   "cell_type": "code",
   "execution_count": null,
   "metadata": {},
   "outputs": [],
   "source": []
  },
  {
   "cell_type": "code",
   "execution_count": null,
   "metadata": {},
   "outputs": [],
   "source": []
  },
  {
   "cell_type": "code",
   "execution_count": null,
   "metadata": {},
   "outputs": [],
   "source": []
  },
  {
   "cell_type": "code",
   "execution_count": null,
   "metadata": {},
   "outputs": [],
   "source": []
  }
 ],
 "metadata": {
  "kernelspec": {
   "display_name": "Python 3",
   "language": "python",
   "name": "python3"
  },
  "language_info": {
   "codemirror_mode": {
    "name": "ipython",
    "version": 3
   },
   "file_extension": ".py",
   "mimetype": "text/x-python",
   "name": "python",
   "nbconvert_exporter": "python",
   "pygments_lexer": "ipython3",
   "version": "3.5.6"
  }
 },
 "nbformat": 4,
 "nbformat_minor": 2
}
