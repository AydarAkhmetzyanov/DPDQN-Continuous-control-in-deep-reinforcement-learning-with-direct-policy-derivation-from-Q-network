{
 "cells": [
  {
   "cell_type": "code",
   "execution_count": 1,
   "metadata": {},
   "outputs": [
    {
     "name": "stdout",
     "output_type": "stream",
     "text": [
      "WARNING:tensorflow:\n",
      "The TensorFlow contrib module will not be included in TensorFlow 2.0.\n",
      "For more information, please see:\n",
      "  * https://github.com/tensorflow/community/blob/master/rfcs/20180907-contrib-sunset.md\n",
      "  * https://github.com/tensorflow/addons\n",
      "  * https://github.com/tensorflow/io (for I/O related ops)\n",
      "If you depend on functionality not listed there, please file an issue.\n",
      "\n"
     ]
    }
   ],
   "source": [
    "%matplotlib inline\n",
    "\n",
    "from dpdqn_v1 import DPDQN1\n",
    "\n",
    "import os\n",
    "os.environ['TF_CPP_MIN_LOG_LEVEL'] = '3'\n",
    "import gym\n",
    "import numpy as np\n",
    "import matplotlib.pyplot as plt\n",
    "plt.rcParams['figure.figsize'] = [15, 10]\n",
    "time_steps = 1e6 #testrun\n",
    "#time_steps = 100000 #for prod or even more *10?100?\n",
    "time_steps_test = int(time_steps/100)\n",
    "\n",
    "from stable_baselines.bench import Monitor\n",
    "from stable_baselines.results_plotter import load_results, ts2xy\n",
    "from stable_baselines import results_plotter\n",
    "\n",
    "os.makedirs(\"logs_test\", exist_ok=True)\n",
    "os.makedirs(\"logs_train\", exist_ok=True)\n",
    "os.makedirs(\"logs_tmp\", exist_ok=True)\n",
    "from shutil import copyfile\n",
    "from utils import *"
   ]
  },
  {
   "cell_type": "markdown",
   "metadata": {},
   "source": [
    "## DPDQN1"
   ]
  },
  {
   "cell_type": "code",
   "execution_count": null,
   "metadata": {},
   "outputs": [],
   "source": [
    "%%time\n",
    "envname=\"BipedalWalker-v2\"\n",
    "env = gym.make(envname)\n",
    "exp_name=env.spec._env_name+'-DPDQN1'\n",
    "\n",
    "#train\n",
    "log_dir='logs_train/'+exp_name\n",
    "env = Monitor(env, log_dir, allow_early_resets=True)\n",
    "\n",
    "model = DPDQN1(env, verbose=1)\n",
    "\n",
    "print(\"time_steps_todo: \"+str(time_steps))\n",
    "model.learn(total_timesteps=int(time_steps))\n",
    "\n",
    "os.makedirs(\"models\", exist_ok=True)\n",
    "model.save(\"models/\"+log_dir.split(\"/\")[1])\n",
    "\n",
    "copyfile(log_dir+\".monitor.csv\", \"logs_tmp/tmp.monitor.csv\")\n",
    "results_plotter.plot_results([\"logs_tmp\"], time_steps, results_plotter.X_TIMESTEPS, log_dir.split(\"/\")[1])\n",
    "plt.show()\n"
   ]
  },
  {
   "cell_type": "code",
   "execution_count": null,
   "metadata": {},
   "outputs": [],
   "source": [
    "%%time\n",
    "#test\n",
    "\n",
    "env = gym.make(envname)\n",
    "log_dir='logs_test/'+exp_name\n",
    "env = Monitor(env, log_dir, allow_early_resets=True)\n",
    "\n",
    "#model = DPDQN1.load(\"models/\"+log_dir.split(\"/\")[1])\n",
    "obs = env.reset()\n",
    "for i in range(time_steps_test):\n",
    "    if env.needs_reset:\n",
    "        obs = env.reset()\n",
    "    action, _states = model.predict(obs, greedy=True)\n",
    "    obs, rewards, dones, info = env.step(action)\n",
    "    #env.render()\n",
    "    \n",
    "copyfile(log_dir+\".monitor.csv\", \"logs_tmp/tmp.monitor.csv\")\n",
    "results_plotter.plot_results([\"logs_tmp\"], time_steps, results_plotter.X_TIMESTEPS, log_dir.split(\"/\")[1])\n",
    "plt.show()\n"
   ]
  },
  {
   "cell_type": "code",
   "execution_count": null,
   "metadata": {},
   "outputs": [],
   "source": []
  },
  {
   "cell_type": "code",
   "execution_count": null,
   "metadata": {},
   "outputs": [],
   "source": []
  },
  {
   "cell_type": "code",
   "execution_count": null,
   "metadata": {},
   "outputs": [],
   "source": []
  },
  {
   "cell_type": "code",
   "execution_count": null,
   "metadata": {},
   "outputs": [],
   "source": []
  },
  {
   "cell_type": "code",
   "execution_count": null,
   "metadata": {},
   "outputs": [],
   "source": []
  },
  {
   "cell_type": "code",
   "execution_count": null,
   "metadata": {},
   "outputs": [],
   "source": []
  },
  {
   "cell_type": "code",
   "execution_count": null,
   "metadata": {},
   "outputs": [],
   "source": []
  },
  {
   "cell_type": "code",
   "execution_count": null,
   "metadata": {},
   "outputs": [],
   "source": []
  },
  {
   "cell_type": "code",
   "execution_count": null,
   "metadata": {},
   "outputs": [],
   "source": []
  }
 ],
 "metadata": {
  "kernelspec": {
   "display_name": "Python 3",
   "language": "python",
   "name": "python3"
  },
  "language_info": {
   "codemirror_mode": {
    "name": "ipython",
    "version": 3
   },
   "file_extension": ".py",
   "mimetype": "text/x-python",
   "name": "python",
   "nbconvert_exporter": "python",
   "pygments_lexer": "ipython3",
   "version": "3.6.9"
  }
 },
 "nbformat": 4,
 "nbformat_minor": 2
}
